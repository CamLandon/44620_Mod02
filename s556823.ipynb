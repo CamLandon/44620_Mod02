{
 "cells": [
  {
   "cell_type": "markdown",
   "id": "af410cf2-97a1-4661-a8f7-bb38bfb0ecd5",
   "metadata": {},
   "source": [
    "# Cameron Landon"
   ]
  },
  {
   "cell_type": "code",
   "execution_count": 1,
   "id": "b9502250-c2b9-4558-831e-bda6a0537839",
   "metadata": {},
   "outputs": [
    {
     "name": "stdout",
     "output_type": "stream",
     "text": [
      "*       *\n",
      "**     **\n",
      "***   ***\n",
      "**** ****\n"
     ]
    }
   ],
   "source": [
    "rows = 4\n",
    "\n",
    "for x in range(1, rows + 1):\n",
    "    for y in range(1, x + 1):\n",
    "        print('*', end='')\n",
    "    \n",
    "    for z in range(1, 2 * (rows - x + 1)):\n",
    "        print(' ', end='')\n",
    "    \n",
    "    for y in range(1, x + 1):\n",
    "        print('*', end='')\n",
    "    \n",
    "    print()"
   ]
  },
  {
   "cell_type": "code",
   "execution_count": null,
   "id": "7b4a9256-a096-4703-833a-fe9d7f31fd37",
   "metadata": {},
   "outputs": [],
   "source": []
  }
 ],
 "metadata": {
  "kernelspec": {
   "display_name": "Python 3 (ipykernel)",
   "language": "python",
   "name": "python3"
  },
  "language_info": {
   "codemirror_mode": {
    "name": "ipython",
    "version": 3
   },
   "file_extension": ".py",
   "mimetype": "text/x-python",
   "name": "python",
   "nbconvert_exporter": "python",
   "pygments_lexer": "ipython3",
   "version": "3.9.12"
  }
 },
 "nbformat": 4,
 "nbformat_minor": 5
}
